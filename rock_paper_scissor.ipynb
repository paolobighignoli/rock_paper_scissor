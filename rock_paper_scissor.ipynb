{
 "cells": [
  {
   "cell_type": "markdown",
   "id": "c75ee7dd",
   "metadata": {},
   "source": [
    "### Rock Paper Scissor\n",
    "\n",
    "Player A and B play RPS, where\n",
    "- R > S\n",
    "- S > P\n",
    "- P > R\n",
    "\n",
    "Each game 1€ is played.\n",
    "The payoff matrix is the following:"
   ]
  },
  {
   "cell_type": "code",
   "execution_count": 2,
   "id": "16f26c9c",
   "metadata": {},
   "outputs": [
    {
     "data": {
      "text/plain": [
       "matrix([[ 0, -1,  1],\n",
       "        [ 1,  0, -1],\n",
       "        [-1,  1,  0]])"
      ]
     },
     "execution_count": 2,
     "metadata": {},
     "output_type": "execute_result"
    }
   ],
   "source": [
    "import numpy as np\n",
    "\n",
    "payoff = np.matrix([[0, -1, 1],\n",
    "                   [1, 0, -1],\n",
    "                   [-1, 1, 0]])\n",
    "payoff"
   ]
  },
  {
   "cell_type": "code",
   "execution_count": 4,
   "id": "c807f19e",
   "metadata": {},
   "outputs": [
    {
     "data": {
      "text/plain": [
       "(3, 3)"
      ]
     },
     "execution_count": 4,
     "metadata": {},
     "output_type": "execute_result"
    }
   ],
   "source": [
    "payoff.shape"
   ]
  },
  {
   "cell_type": "markdown",
   "id": "6b04aa32",
   "metadata": {},
   "source": [
    "A possible strategy is a vector of dimension 3 with all the values that\n",
    "- positive\n",
    "- sum to 1\n"
   ]
  },
  {
   "cell_type": "code",
   "execution_count": 25,
   "id": "02316af8",
   "metadata": {},
   "outputs": [],
   "source": [
    "def isValid(x):\n",
    "    if x.sum() != 1:\n",
    "        return False\n",
    "    for i in x:\n",
    "        for j in i:\n",
    "            if j < 0:\n",
    "                return False\n",
    "    return True"
   ]
  },
  {
   "cell_type": "code",
   "execution_count": 26,
   "id": "4f1acf94",
   "metadata": {},
   "outputs": [
    {
     "name": "stdout",
     "output_type": "stream",
     "text": [
      "False\n",
      "False\n",
      "True\n",
      "True\n",
      "True\n"
     ]
    }
   ],
   "source": [
    "x1 = np.array([[1, 1, 1]])\n",
    "x2 = np.array([[1, 0, 1]])\n",
    "x3 = np.array([[0.1, 0.9, 0]])\n",
    "x4 = np.array([[1/3, 1/3, 1/3]])\n",
    "x5 = np.array([[0.5, 0.25, 0.25]])\n",
    "\n",
    "print(isValid(x1))\n",
    "print(isValid(x2))\n",
    "print(isValid(x3))\n",
    "print(isValid(x4))\n",
    "print(isValid(x5))\n"
   ]
  },
  {
   "cell_type": "markdown",
   "id": "fa017d99",
   "metadata": {},
   "source": [
    "Now a generic numpy array should be a 2d dimensional vector of size 1x3"
   ]
  },
  {
   "cell_type": "code",
   "execution_count": 27,
   "id": "49ac3cf0",
   "metadata": {},
   "outputs": [
    {
     "name": "stdout",
     "output_type": "stream",
     "text": [
      "(1, 3)\n"
     ]
    }
   ],
   "source": [
    "x = np.array([[1, 0, 0]])\n",
    "print(x.shape)"
   ]
  },
  {
   "cell_type": "code",
   "execution_count": 37,
   "id": "bc885ce4",
   "metadata": {},
   "outputs": [],
   "source": [
    "def calcReturn(x, y):\n",
    "    if isValid(x) and isValid(y):\n",
    "        return (x*payoff*(y.T))[0, 0]\n",
    "    print('Invalid strategies')\n",
    "    return -1"
   ]
  },
  {
   "cell_type": "code",
   "execution_count": 38,
   "id": "518eb3dd",
   "metadata": {},
   "outputs": [
    {
     "name": "stdout",
     "output_type": "stream",
     "text": [
      "Invalid strategies\n"
     ]
    },
    {
     "data": {
      "text/plain": [
       "-1"
      ]
     },
     "execution_count": 38,
     "metadata": {},
     "output_type": "execute_result"
    }
   ],
   "source": [
    "calcReturn(x1, x2)"
   ]
  },
  {
   "cell_type": "code",
   "execution_count": 39,
   "id": "401ab754",
   "metadata": {},
   "outputs": [
    {
     "data": {
      "text/plain": [
       "0.0"
      ]
     },
     "execution_count": 39,
     "metadata": {},
     "output_type": "execute_result"
    }
   ],
   "source": [
    "calcReturn(x4, x5)"
   ]
  },
  {
   "cell_type": "code",
   "execution_count": 41,
   "id": "4c8e64bc",
   "metadata": {},
   "outputs": [
    {
     "name": "stdout",
     "output_type": "stream",
     "text": [
      "Expected return: 0.0\n",
      "Expected return: 0.0\n",
      "Expected return: 0.0\n"
     ]
    }
   ],
   "source": [
    "best_x = np.array([[1/3, 1/3, 1/3]])\n",
    "rock_x = np.array([[1, 0, 0]])\n",
    "paper_x = np.array([[0, 1, 0]])\n",
    "scissor_x = np.array([[0, 0, 1]])\n",
    "\n",
    "pure_strategies = [rock_x, paper_x, scissor_x]\n",
    "\n",
    "for strategy in pure_strategies:\n",
    "    print('Expected return:', calcReturn(best_x, strategy))"
   ]
  },
  {
   "cell_type": "code",
   "execution_count": null,
   "id": "91a5a10f",
   "metadata": {},
   "outputs": [],
   "source": []
  }
 ],
 "metadata": {
  "kernelspec": {
   "display_name": "Python 3 (ipykernel)",
   "language": "python",
   "name": "python3"
  },
  "language_info": {
   "codemirror_mode": {
    "name": "ipython",
    "version": 3
   },
   "file_extension": ".py",
   "mimetype": "text/x-python",
   "name": "python",
   "nbconvert_exporter": "python",
   "pygments_lexer": "ipython3",
   "version": "3.9.7"
  }
 },
 "nbformat": 4,
 "nbformat_minor": 5
}
